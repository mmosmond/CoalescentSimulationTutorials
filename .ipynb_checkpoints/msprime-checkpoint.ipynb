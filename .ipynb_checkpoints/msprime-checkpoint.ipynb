{
 "cells": [
  {
   "cell_type": "markdown",
   "metadata": {},
   "source": [
    "# small msprime tutorial"
   ]
  },
  {
   "cell_type": "markdown",
   "metadata": {},
   "source": [
    "## import libraries"
   ]
  },
  {
   "cell_type": "code",
   "execution_count": null,
   "metadata": {},
   "outputs": [],
   "source": [
    "import msprime\n",
    "import numpy as np"
   ]
  },
  {
   "cell_type": "markdown",
   "metadata": {},
   "source": [
    "## simulate neutral coalescent, take sample, draw tree at first locus"
   ]
  },
  {
   "cell_type": "code",
   "execution_count": null,
   "metadata": {},
   "outputs": [],
   "source": [
    "tree_sequence = msprime.simulate(sample_size=8, Ne=1000)\n",
    "tree = tree_sequence.first()\n",
    "print(tree.draw(format=\"ascii\"))"
   ]
  },
  {
   "cell_type": "code",
   "execution_count": 20,
   "metadata": {},
   "outputs": [
    {
     "name": "stdout",
     "output_type": "stream",
     "text": [
      "--------------------\n",
      "tree 0: interval = (0.0, 999.0498751865351)\n",
      "    11       \n",
      " +--+-+      \n",
      " |    10     \n",
      " |  +-+-+    \n",
      " 9  |   |    \n",
      "+++ |   |    \n",
      "| | |   8    \n",
      "| | | +-++   \n",
      "| | | |  6   \n",
      "| | | | +++  \n",
      "2 4 5 0 1 3  \n",
      "\n",
      "--------------------\n",
      "tree 1: interval = (999.0498751865351, 10000.0)\n",
      "     11      \n",
      "  +--+--+    \n",
      "  |     10   \n",
      "  |   +-++   \n",
      "  9   |  |   \n",
      "+-++  |  |   \n",
      "|  |  |  8   \n",
      "|  |  | +++  \n",
      "|  7  | | |  \n",
      "| +++ | | |  \n",
      "4 2 3 5 0 1  \n",
      "\n"
     ]
    }
   ],
   "source": [
    "tree_sequence = msprime.simulate(\n",
    "    sample_size=6, Ne=1000, length=1e4, recombination_rate=2e-8)\n",
    "for tree in tree_sequence.trees():\n",
    "    print(\"-\" * 20)\n",
    "    print(\"tree {}: interval = {}\".format(tree.index, tree.interval))\n",
    "    print(tree.draw(format=\"ascii\"))"
   ]
  },
  {
   "cell_type": "code",
   "execution_count": null,
   "metadata": {},
   "outputs": [],
   "source": [
    "def segregating_sites_example(n, theta, num_replicates):\n",
    "    S = np.zeros(num_replicates)\n",
    "    replicates = msprime.simulate(\n",
    "        Ne=0.5,\n",
    "        sample_size=n,\n",
    "        mutation_rate=theta / 2,\n",
    "        num_replicates=num_replicates)\n",
    "    for j, tree_sequence in enumerate(replicates):\n",
    "        S[j] = tree_sequence.num_sites\n",
    "    # Now, calculate the analytical predictions\n",
    "    S_mean_a = np.sum(1 / np.arange(1, n)) * theta\n",
    "    S_var_a = (\n",
    "        theta * np.sum(1 / np.arange(1, n)) +\n",
    "        theta**2 * np.sum(1 / np.arange(1, n)**2))\n",
    "    print(\"              mean              variance\")\n",
    "    print(\"Observed      {}\\t\\t{}\".format(np.mean(S), np.var(S)))\n",
    "    print(\"Analytical    {:.5f}\\t\\t{:.5f}\".format(S_mean_a, S_var_a))"
   ]
  },
  {
   "cell_type": "code",
   "execution_count": null,
   "metadata": {},
   "outputs": [],
   "source": [
    "segregating_sites_example(10, 5, 100000)"
   ]
  },
  {
   "cell_type": "code",
   "execution_count": null,
   "metadata": {},
   "outputs": [],
   "source": []
  }
 ],
 "metadata": {
  "kernelspec": {
   "display_name": "Python 3",
   "language": "python",
   "name": "python3"
  },
  "language_info": {
   "codemirror_mode": {
    "name": "ipython",
    "version": 3
   },
   "file_extension": ".py",
   "mimetype": "text/x-python",
   "name": "python",
   "nbconvert_exporter": "python",
   "pygments_lexer": "ipython3",
   "version": "3.6.5"
  }
 },
 "nbformat": 4,
 "nbformat_minor": 2
}
