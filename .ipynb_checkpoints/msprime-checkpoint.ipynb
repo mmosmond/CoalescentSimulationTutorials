{
 "cells": [
  {
   "cell_type": "code",
   "execution_count": 1,
   "metadata": {},
   "outputs": [
    {
     "name": "stderr",
     "output_type": "stream",
     "text": [
      "/Users/mmosmond/anaconda3/lib/python3.6/site-packages/h5py/__init__.py:36: FutureWarning: Conversion of the second argument of issubdtype from `float` to `np.floating` is deprecated. In future, it will be treated as `np.float64 == np.dtype(float).type`.\n",
      "  from ._conv import register_converters as _register_converters\n"
     ]
    }
   ],
   "source": [
    "import msprime"
   ]
  },
  {
   "cell_type": "code",
   "execution_count": 2,
   "metadata": {},
   "outputs": [
    {
     "name": "stdout",
     "output_type": "stream",
     "text": [
      "   10        \n",
      "┏━━┻━━┓      \n",
      "┃     9      \n",
      "┃   ┏━┻━━┓   \n",
      "┃   ┃    8   \n",
      "┃   ┃   ┏┻┓  \n",
      "┃   7   ┃ ┃  \n",
      "┃ ┏━┻┓  ┃ ┃  \n",
      "┃ ┃  6  ┃ ┃  \n",
      "┃ ┃ ┏┻┓ ┃ ┃  \n",
      "2 3 0 5 1 4  \n",
      "\n"
     ]
    }
   ],
   "source": [
    "tree_sequence = msprime.simulate(sample_size=6, Ne=1000)\n",
    "tree = tree_sequence.first()\n",
    "print(tree.draw(format=\"unicode\"))"
   ]
  },
  {
   "cell_type": "code",
   "execution_count": null,
   "metadata": {},
   "outputs": [],
   "source": []
  }
 ],
 "metadata": {
  "kernelspec": {
   "display_name": "Python 3",
   "language": "python",
   "name": "python3"
  },
  "language_info": {
   "codemirror_mode": {
    "name": "ipython",
    "version": 3
   },
   "file_extension": ".py",
   "mimetype": "text/x-python",
   "name": "python",
   "nbconvert_exporter": "python",
   "pygments_lexer": "ipython3",
   "version": "3.6.5"
  }
 },
 "nbformat": 4,
 "nbformat_minor": 2
}
