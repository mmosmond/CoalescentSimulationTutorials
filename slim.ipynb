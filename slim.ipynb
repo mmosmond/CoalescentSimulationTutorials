{
 "cells": [
  {
   "cell_type": "markdown",
   "metadata": {},
   "source": [
    "# small slim tutorial"
   ]
  },
  {
   "cell_type": "code",
   "execution_count": 3,
   "metadata": {},
   "outputs": [],
   "source": [
    "import os"
   ]
  },
  {
   "cell_type": "markdown",
   "metadata": {},
   "source": [
    "## function to run slim simulations"
   ]
  },
  {
   "cell_type": "code",
   "execution_count": 6,
   "metadata": {},
   "outputs": [],
   "source": [
    "def slim_script(script, name, quiet=False):\n",
    "    logfile = name + \".log\"\n",
    "    out = os.system(\"echo '\" + script + \"' | slim > \" + logfile + \" 2>&1\")\n",
    "    if not quiet:\n",
    "        with open(logfile, \"r\") as log:\n",
    "            print(log.read())\n",
    "    if out != 0:\n",
    "        print(\"An error occurred.\")\n",
    "    return out, logfile"
   ]
  },
  {
   "cell_type": "markdown",
   "metadata": {},
   "source": [
    "## basic WF model "
   ]
  },
  {
   "cell_type": "code",
   "execution_count": 7,
   "metadata": {},
   "outputs": [
    {
     "name": "stdout",
     "output_type": "stream",
     "text": [
      "SLiM version 3.2, built Nov  6 2018 09:41:03.\n",
      "\n",
      "SLiM is a product of the Messer Lab, http://messerlab.org/\n",
      "Copyright 2013-2018 Philipp Messer.  All rights reserved.\n",
      "\n",
      "By Benjamin C. Haller, http://benhaller.com/, and Philipp Messer.\n",
      "\n",
      "---------------------------------------------------------------------------------\n",
      "\n",
      "To cite SLiM in publications please use:\n",
      "\n",
      "Haller, B.C., and Messer, P.W. (2017). SLiM 2: Flexible, Interactive Forward\n",
      "Genetic Simulations. Molecular Biology and Evolution 34(1), 230-240.\n",
      "DOI: 10.1093/molbev/msw211\n",
      "\n",
      "---------------------------------------------------------------------------------\n",
      "\n",
      "SLiM home page: http://messerlab.org/slim/\n",
      "slim-announce mailing list: https://groups.google.com/d/forum/slim-announce\n",
      "slim-discuss mailing list: https://groups.google.com/d/forum/slim-discuss\n",
      "\n",
      "---------------------------------------------------------------------------------\n",
      "\n",
      "SLiM is free software: you can redistribute it and/or modify it under the terms\n",
      "of the GNU General Public License as published by the Free Software Foundation,\n",
      "either version 3 of the License, or (at your option) any later version.\n",
      "\n",
      "SLiM is distributed in the hope that it will be useful, but WITHOUT ANY WARRANTY;\n",
      "without even the implied warranty of MERCHANTABILITY or FITNESS FOR A PARTICULAR\n",
      "PURPOSE.  See the GNU General Public License for more details.\n",
      "\n",
      "You should have received a copy of the GNU General Public License along with\n",
      "SLiM.  If not, see <http://www.gnu.org/licenses/>.\n",
      "\n",
      "---------------------------------------------------------------------------------\n",
      "\n",
      "usage: slim -v[ersion] | -u[sage] | -testEidos | -testSLiM |\n",
      "   [-l[ong]] [-s[eed] <seed>] [-t[ime]] [-m[em]] [-M[emhist]] [-x]\n",
      "   [-d[efine] <def>] <script file>\n",
      "\n",
      "   -v[ersion]       : print SLiM's version information\n",
      "   -u[sage]         : print command-line usage help\n",
      "   -testEidos | -te : run built-in self-diagnostic tests of Eidos\n",
      "   -testSLiM | -ts  : run built-in self-diagnostic tests of SLiM\n",
      "\n",
      "   -l[ong]          : long (i.e.) verbose output (format may change)\n",
      "   -s[eed] <seed>   : supply an initial random number seed for SLiM\n",
      "   -t[ime]          : print SLiM's total execution time (in user clock time)\n",
      "   -m[em]           : print SLiM's peak memory usage\n",
      "   -M[emhist]       : print a histogram of SLiM's memory usage\n",
      "   -x               : disable SLiM's runtime safety/consistency checks\n",
      "   -d[efine] <def>  : define an Eidos constant, such as \"mu=1e-7\"\n",
      "\n",
      "\n"
     ]
    }
   ],
   "source": [
    "basic_WF = \"\"\"\n",
    "// set up a simple neutral simulation\n",
    "initialize()\n",
    "{\n",
    "    // set the overall mutation rate\n",
    "    initializeMutationRate(1e-7);\n",
    "\n",
    "    // m1 mutation type: neutral\n",
    "    initializeMutationType(\"m1\", 0.5, \"f\", 0.0);\n",
    "    // m2 mutation type: beneficial\n",
    "    initializeMutationType(\"m2\", 0.5, \"f\", 0.01);\n",
    "\n",
    "    // g1 genomic element type: uses m1 or m2 with equal prob for mutations\n",
    "    initializeGenomicElementType(\"g1\", c(m1,m2), c(1.0,1.0));\n",
    "\n",
    "    // uniform chromosome of length 100 kb\n",
    "    initializeGenomicElement(g1, 0, 99999);\n",
    "   \n",
    "    // uniform recombination along the chromosome\n",
    "    initializeRecombinationRate(1e-8);\n",
    "}\n",
    "\n",
    "// create a population of 500 individuals\n",
    "1 {\n",
    "    sim.addSubpop(\"p1\", 500);\n",
    "}\n",
    "\n",
    "// run to generation 10000\n",
    "10000 {\n",
    "    sim.simulationFinished();\n",
    "}\n",
    "\"\"\"\n",
    "\n",
    "out, logfile = slim_script(basic_WF, \"basic_WF\")"
   ]
  },
  {
   "cell_type": "code",
   "execution_count": 10,
   "metadata": {},
   "outputs": [
    {
     "data": {
      "text/plain": [
       "0"
      ]
     },
     "execution_count": 10,
     "metadata": {},
     "output_type": "execute_result"
    }
   ],
   "source": [
    "out"
   ]
  },
  {
   "cell_type": "markdown",
   "metadata": {},
   "source": [
    "## basic non-WF"
   ]
  },
  {
   "cell_type": "code",
   "execution_count": 11,
   "metadata": {},
   "outputs": [
    {
     "name": "stdout",
     "output_type": "stream",
     "text": [
      "SLiM version 3.2, built Nov  6 2018 09:41:03.\n",
      "\n",
      "SLiM is a product of the Messer Lab, http://messerlab.org/\n",
      "Copyright 2013-2018 Philipp Messer.  All rights reserved.\n",
      "\n",
      "By Benjamin C. Haller, http://benhaller.com/, and Philipp Messer.\n",
      "\n",
      "---------------------------------------------------------------------------------\n",
      "\n",
      "To cite SLiM in publications please use:\n",
      "\n",
      "Haller, B.C., and Messer, P.W. (2017). SLiM 2: Flexible, Interactive Forward\n",
      "Genetic Simulations. Molecular Biology and Evolution 34(1), 230-240.\n",
      "DOI: 10.1093/molbev/msw211\n",
      "\n",
      "---------------------------------------------------------------------------------\n",
      "\n",
      "SLiM home page: http://messerlab.org/slim/\n",
      "slim-announce mailing list: https://groups.google.com/d/forum/slim-announce\n",
      "slim-discuss mailing list: https://groups.google.com/d/forum/slim-discuss\n",
      "\n",
      "---------------------------------------------------------------------------------\n",
      "\n",
      "SLiM is free software: you can redistribute it and/or modify it under the terms\n",
      "of the GNU General Public License as published by the Free Software Foundation,\n",
      "either version 3 of the License, or (at your option) any later version.\n",
      "\n",
      "SLiM is distributed in the hope that it will be useful, but WITHOUT ANY WARRANTY;\n",
      "without even the implied warranty of MERCHANTABILITY or FITNESS FOR A PARTICULAR\n",
      "PURPOSE.  See the GNU General Public License for more details.\n",
      "\n",
      "You should have received a copy of the GNU General Public License along with\n",
      "SLiM.  If not, see <http://www.gnu.org/licenses/>.\n",
      "\n",
      "---------------------------------------------------------------------------------\n",
      "\n",
      "usage: slim -v[ersion] | -u[sage] | -testEidos | -testSLiM |\n",
      "   [-l[ong]] [-s[eed] <seed>] [-t[ime]] [-m[em]] [-M[emhist]] [-x]\n",
      "   [-d[efine] <def>] <script file>\n",
      "\n",
      "   -v[ersion]       : print SLiM's version information\n",
      "   -u[sage]         : print command-line usage help\n",
      "   -testEidos | -te : run built-in self-diagnostic tests of Eidos\n",
      "   -testSLiM | -ts  : run built-in self-diagnostic tests of SLiM\n",
      "\n",
      "   -l[ong]          : long (i.e.) verbose output (format may change)\n",
      "   -s[eed] <seed>   : supply an initial random number seed for SLiM\n",
      "   -t[ime]          : print SLiM's total execution time (in user clock time)\n",
      "   -m[em]           : print SLiM's peak memory usage\n",
      "   -M[emhist]       : print a histogram of SLiM's memory usage\n",
      "   -x               : disable SLiM's runtime safety/consistency checks\n",
      "   -d[efine] <def>  : define an Eidos constant, such as \"mu=1e-7\"\n",
      "\n",
      "\n"
     ]
    }
   ],
   "source": [
    "basic_nonWF = \"\"\"\n",
    "initialize()\n",
    "{\n",
    "    // since the model will be non-Wright-Fisher, we need to say so\n",
    "    initializeSLiMModelType(\"nonWF\");\n",
    "    // genome is the same as above\n",
    "    initializeMutationRate(1e-7);\n",
    "    initializeMutationType(\"m1\", 0.5, \"f\", 0.0);\n",
    "    initializeGenomicElementType(\"g1\", m1, 1.0);\n",
    "    initializeGenomicElement(g1, 0, 99999);\n",
    "    initializeRecombinationRate(1e-8);    \n",
    "}\n",
    "\n",
    "reproduction() {\n",
    "    subpop.addCrossed(individual, subpop.sampleIndividuals(1));\n",
    "}\n",
    "\n",
    "1 early() {\n",
    "    sim.addSubpop(\"p1\", 10);\n",
    "}\n",
    "\n",
    "1: {\n",
    "    catn(sim.generation + \" : population size : \" + p1.individualCount);\n",
    "}\n",
    "\n",
    "10 {\n",
    "    sim.simulationFinished();\n",
    "}\n",
    "\"\"\"\n",
    "out, logfile = slim_script(basic_nonWF, \"basic_nonWF\", quiet=False)"
   ]
  },
  {
   "cell_type": "code",
   "execution_count": null,
   "metadata": {},
   "outputs": [],
   "source": []
  }
 ],
 "metadata": {
  "kernelspec": {
   "display_name": "Python 3",
   "language": "python",
   "name": "python3"
  },
  "language_info": {
   "codemirror_mode": {
    "name": "ipython",
    "version": 3
   },
   "file_extension": ".py",
   "mimetype": "text/x-python",
   "name": "python",
   "nbconvert_exporter": "python",
   "pygments_lexer": "ipython3",
   "version": "3.6.5"
  }
 },
 "nbformat": 4,
 "nbformat_minor": 2
}
