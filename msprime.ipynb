{
 "cells": [
  {
   "cell_type": "markdown",
   "metadata": {},
   "source": [
    "# small msprime tutorial"
   ]
  },
  {
   "cell_type": "markdown",
   "metadata": {},
   "source": [
    "## import libraries"
   ]
  },
  {
   "cell_type": "code",
   "execution_count": 12,
   "metadata": {},
   "outputs": [],
   "source": [
    "import msprime\n",
    "import numpy as np\n",
    "from scipy.stats import beta\n",
    "from scipy.special import gamma\n",
    "import scipy.integrate as integrate\n",
    "import matplotlib.pyplot as plt"
   ]
  },
  {
   "cell_type": "markdown",
   "metadata": {},
   "source": [
    "## simulate 1-locus neutral coalescent, draw tree"
   ]
  },
  {
   "cell_type": "code",
   "execution_count": 2,
   "metadata": {},
   "outputs": [
    {
     "name": "stdout",
     "output_type": "stream",
     "text": [
      "      14         \n",
      " +----+---+      \n",
      " |        13     \n",
      " |     +--+--+   \n",
      " |     |     12  \n",
      " |     |    +++  \n",
      " |     11   | |  \n",
      " |   +-+-+  | |  \n",
      " |   |   10 | |  \n",
      " |   |  +++ | |  \n",
      " |   9  | | | |  \n",
      " |  +++ | | | |  \n",
      " 8  | | | | | |  \n",
      "+++ | | | | | |  \n",
      "0 2 1 4 3 7 5 6  \n",
      "\n"
     ]
    }
   ],
   "source": [
    "tree_sequence = msprime.simulate(sample_size=8, Ne=1000)\n",
    "tree = tree_sequence.first()\n",
    "print(tree.draw(format=\"ascii\"))"
   ]
  },
  {
   "cell_type": "markdown",
   "metadata": {},
   "source": [
    "## simulate neutral coalescent with recombination and plot all trees"
   ]
  },
  {
   "cell_type": "code",
   "execution_count": 11,
   "metadata": {},
   "outputs": [
    {
     "name": "stdout",
     "output_type": "stream",
     "text": [
      "--------------------\n",
      "tree 0: interval = (0.0, 2827.621647815132)\n",
      "     12      \n",
      "  +--+--+    \n",
      "  |     9    \n",
      "  |   +-++   \n",
      "  |   |  8   \n",
      "  |   | +++  \n",
      "  7   | | |  \n",
      "+-++  | | |  \n",
      "|  6  | | |  \n",
      "| +++ | | |  \n",
      "5 2 4 3 0 1  \n",
      "\n",
      "--------------------\n",
      "tree 1: interval = (2827.621647815132, 3509.8523002839306)\n",
      "     13      \n",
      "  +--+--+    \n",
      "  |     9    \n",
      "  |   +-++   \n",
      "  |   |  8   \n",
      "  |   | +++  \n",
      "  7   | | |  \n",
      "+-++  | | |  \n",
      "|  6  | | |  \n",
      "| +++ | | |  \n",
      "5 2 4 3 0 1  \n",
      "\n",
      "--------------------\n",
      "tree 2: interval = (3509.8523002839306, 6457.299254009803)\n",
      "    13       \n",
      " +--+-+      \n",
      " |    10     \n",
      " |  +-+-+    \n",
      " 9  |   |    \n",
      "+++ |   |    \n",
      "| | |   7    \n",
      "| | | +-++   \n",
      "| | | |  6   \n",
      "| | | | +++  \n",
      "3 0 1 5 2 4  \n",
      "\n",
      "--------------------\n",
      "tree 3: interval = (6457.299254009803, 10000.0)\n",
      "    11       \n",
      " +--+-+      \n",
      " |    10     \n",
      " |  +-+-+    \n",
      " 9  |   |    \n",
      "+++ |   |    \n",
      "| | |   7    \n",
      "| | | +-++   \n",
      "| | | |  6   \n",
      "| | | | +++  \n",
      "3 0 1 5 2 4  \n",
      "\n"
     ]
    }
   ],
   "source": [
    "tree_sequence = msprime.simulate(\n",
    "    sample_size=6, Ne=1000, length=1e4, recombination_rate=2e-8)\n",
    "for tree in tree_sequence.trees():\n",
    "    print(\"-\" * 20)\n",
    "    print(\"tree {}: interval = {}\".format(tree.index, tree.interval))\n",
    "    print(tree.draw(format=\"ascii\"))"
   ]
  },
  {
   "cell_type": "markdown",
   "metadata": {},
   "source": [
    "## function to run replicates and calculate expected and observed number of segregating sites"
   ]
  },
  {
   "cell_type": "code",
   "execution_count": 9,
   "metadata": {},
   "outputs": [],
   "source": [
    "def segregating_sites_example(n, theta, num_replicates):\n",
    "    S = np.zeros(num_replicates)\n",
    "    replicates = msprime.simulate(\n",
    "        Ne=0.5,\n",
    "        sample_size=n,\n",
    "        mutation_rate=theta / 2,\n",
    "        num_replicates=num_replicates)\n",
    "    for j, tree_sequence in enumerate(replicates):\n",
    "        S[j] = tree_sequence.num_sites\n",
    "    # Now, calculate the analytical predictions\n",
    "    S_mean_a = np.sum(1 / np.arange(1, n)) * theta\n",
    "    S_var_a = (\n",
    "        theta * np.sum(1 / np.arange(1, n)) +\n",
    "        theta**2 * np.sum(1 / np.arange(1, n)**2))\n",
    "    print(\"              mean              variance\")\n",
    "    print(\"Observed      {}\\t\\t{}\".format(np.mean(S), np.var(S)))\n",
    "    print(\"Analytical    {:.5f}\\t\\t{:.5f}\".format(S_mean_a, S_var_a))"
   ]
  },
  {
   "cell_type": "markdown",
   "metadata": {},
   "source": [
    "## run lots of replicates"
   ]
  },
  {
   "cell_type": "code",
   "execution_count": 10,
   "metadata": {},
   "outputs": [
    {
     "name": "stdout",
     "output_type": "stream",
     "text": [
      "              mean              variance\n",
      "Observed      14.17025\t\t52.98560493749999\n",
      "Analytical    14.14484\t\t52.63903\n"
     ]
    }
   ],
   "source": [
    "segregating_sites_example(10, 5, 100000)"
   ]
  },
  {
   "cell_type": "markdown",
   "metadata": {},
   "source": [
    "## custom script to plot site frequency spectrum and do Tajima's D test"
   ]
  },
  {
   "cell_type": "code",
   "execution_count": 21,
   "metadata": {},
   "outputs": [],
   "source": [
    "def sfs_example(n, theta):\n",
    "    tree_sequence = msprime.simulate(sample_size=n, Ne=0.5, mutation_rate=theta/2)\n",
    "    xi = np.zeros(n-1)\n",
    "    for i in tree_sequence.variants():\n",
    "        xi[sum(i.genotypes)-1] += 1\n",
    "    #print(xi) #print SFS\n",
    "    k_hat = 1/(n*(n-1)/2) * sum([(j+1)*(n-(j+1))*xi[j] for j in range(n-1)])\n",
    "    S = tree_sequence.num_sites\n",
    "    a_1 = sum([1/(i+1) for i in range(n-1)])\n",
    "    a_2 = sum([1/((i+1)**2) for i in range(n-1)])\n",
    "    b_1 = (n + 1)/(3*(n-1))\n",
    "    b_2 = 2*(n**2 + n + 3)/(9*n*(n-1))\n",
    "    c_1 = b_1 - 1/a_1\n",
    "    c_2 = b_2 - (n + 2)/(a_1 * n) + a_2/(a_1**2)\n",
    "    e_1 = c_1/a_1\n",
    "    e_2 = c_2/(a_1**2 + a_2)\n",
    "    D = (k_hat - S/a_1) / ((e_1*S + e_2*S*(S-1))**(1/2))\n",
    "    print('D = %.2f' %D) #print Tajima's D statistic\n",
    "    a = (2/n - 1/a_1)/(e_2**(1/2))\n",
    "    if n % 2 == 0:\n",
    "        b = ((n+1)/(2*(n-1)) - 1/a_1)/(e_2**(1/2))\n",
    "    else:\n",
    "        b = ((n+1)/(2*n) - 1/a_1)/(e_2**(1/2))\n",
    "    alpha = -(1+a*b)*b/(b-a)\n",
    "    Beta = (1+a*b)*a/(b-a)\n",
    "    p_lower = integrate.quad(lambda x: gamma(alpha+Beta)/(gamma(alpha)*gamma(Beta)) * (b-x)**(alpha-1) * (x-a)**(Beta-1) / ((b-a)**(alpha+Beta-1)), a, D) #probability of observing a D lower than that observed given neutral model (=1-p_higher)\n",
    "    if p_lower[0]<1-p_lower[0]:\n",
    "        p_value = 2*p_lower[0]\n",
    "    else:\n",
    "        p_value = 2*(1-p_lower[0])\n",
    "    print('p = %.3f' %p_value) #two tailed test (equal weights in the two tails)\n",
    "    plt.bar([i+1 for i in range(n-1)], xi, width=1, align='center')\n",
    "    plt.xlabel('# derived copies')\n",
    "    plt.ylabel('# loci')\n",
    "    plt.title('Unfolded SFS')\n",
    "    plt.show(block=True)"
   ]
  },
  {
   "cell_type": "markdown",
   "metadata": {},
   "source": [
    "## "
   ]
  },
  {
   "cell_type": "code",
   "execution_count": 22,
   "metadata": {},
   "outputs": [
    {
     "name": "stdout",
     "output_type": "stream",
     "text": [
      "D = -0.19\n",
      "p = 0.913\n"
     ]
    },
    {
     "data": {
      "image/png": "[encoded data removed]",
      "text/plain": [
       "<Figure size 432x288 with 1 Axes>"
      ]
     },
     "metadata": {},
     "output_type": "display_data"
    }
   ],
   "source": [
    "sfs_example(10,5)"
   ]
  },
  {
   "cell_type": "code",
   "execution_count": null,
   "metadata": {},
   "outputs": [],
   "source": []
  }
 ],
 "metadata": {
  "kernelspec": {
   "display_name": "Python 3",
   "language": "python",
   "name": "python3"
  },
  "language_info": {
   "codemirror_mode": {
    "name": "ipython",
    "version": 3
   },
   "file_extension": ".py",
   "mimetype": "text/x-python",
   "name": "python",
   "nbconvert_exporter": "python",
   "pygments_lexer": "ipython3",
   "version": "3.6.5"
  }
 },
 "nbformat": 4,
 "nbformat_minor": 2
}
